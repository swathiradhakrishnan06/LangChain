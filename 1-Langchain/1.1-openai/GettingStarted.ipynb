{
 "cells": [
  {
   "cell_type": "markdown",
   "metadata": {},
   "source": [
    "Setup LangChain, LangSmith and LangServe\n",
    "Use the most basic and common components of LangChain: prompt templates, models and output parsers.\n",
    "Build a simple application with LangChain\n",
    "Trace your application with LangSmith\n",
    "Serve your application with LangServe"
   ]
  },
  {
   "cell_type": "code",
   "execution_count": null,
   "metadata": {
    "vscode": {
     "languageId": "plaintext"
    }
   },
   "outputs": [],
   "source": [
    " "
   ]
  }
 ],
 "metadata": {
  "language_info": {
   "name": "python"
  }
 },
 "nbformat": 4,
 "nbformat_minor": 2
}
