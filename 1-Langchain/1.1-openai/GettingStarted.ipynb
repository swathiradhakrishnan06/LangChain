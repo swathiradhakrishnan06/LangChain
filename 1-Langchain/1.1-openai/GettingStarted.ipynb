{
 "cells": [
  {
   "cell_type": "code",
   "execution_count": null,
   "metadata": {},
   "outputs": [],
   "source": [
    "#Setup LangChain, LangSmith and LangServe\n",
    "#Use the most basic and common components of LangChain: prompt templates, models and output parsers.\n",
    "#Build a simple application with LangChain\n",
    "#Trace your application with LangSmith\n",
    "#Serve your application with LangServe"
   ]
  },
  {
   "cell_type": "code",
   "execution_count": null,
   "metadata": {},
   "outputs": [],
   "source": []
  }
 ],
 "metadata": {
  "kernelspec": {
   "display_name": ".venv",
   "language": "python",
   "name": "python3"
  },
  "language_info": {
   "name": "python",
   "version": "3.13.2"
  }
 },
 "nbformat": 4,
 "nbformat_minor": 2
}
